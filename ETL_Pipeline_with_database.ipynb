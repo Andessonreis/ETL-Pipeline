{
  "nbformat": 4,
  "nbformat_minor": 0,
  "metadata": {
    "colab": {
      "provenance": [],
      "authorship_tag": "ABX9TyPAfvPCrwx8P8ET0KapP0iA"
    },
    "kernelspec": {
      "name": "python3",
      "display_name": "Python 3"
    },
    "language_info": {
      "name": "python"
    }
  },
  "cells": [
    {
      "cell_type": "code",
      "execution_count": 1,
      "metadata": {
        "id": "SjDQJiB2ccs1"
      },
      "outputs": [],
      "source": [
        "import requests\n",
        "import logging\n",
        "\n",
        "logging.basicConfig(filename='etl_log.txt', level=logging.INFO)\n",
        "\n",
        "\"\"\"Extraindo os dados do endpoint da API disease sobre a covid\"\"\"\n",
        "def extract_data_api():\n",
        "    url = \"https://disease.sh/v3/covid-19/all\"\n",
        "    response = requests.get(url)\n",
        "\n",
        "    if response.status_code == 200:\n",
        "        return response.json()\n",
        "    else:\n",
        "        logging.error(f\"Erro ao fazer a requisição à API. Status code: {response.status_code}\")\n",
        "        raise Exception(f\"Erro ao fazer a requisição à API. Status code: {response.status_code}\")\n"
      ]
    },
    {
      "cell_type": "code",
      "source": [
        "\"\"\"Transforma os dados brutos da API em um formato mais legível e relevante.\"\"\"\n",
        "def transform_data_api(data):\n",
        "    \"\"\"\n",
        "    Args:\n",
        "        data (dict): Dados brutos obtidos da API.\n",
        "    Returns:\n",
        "        dict: Dados transformados contendo apenas as chaves relevantes.\n",
        "    \"\"\"\n",
        "    relevant = ['cases', 'deaths', 'recovered', 'active', 'critical', 'tests', 'population', 'affectedCountries']\n",
        "    return {key: data[key] for key in relevant}\n",
        "\n",
        "try:\n",
        "    data = extract_data_api()\n",
        "    if data is not None:\n",
        "        transformed_data = transform_data_api(data)\n",
        "        print(transformed_data)\n",
        "    else:\n",
        "        print(\"Nenhum dado retornado pela API.\")\n",
        "except Exception as e:\n",
        "    print(e)\n",
        "    logging.error(f\"Erro inesperado: {e}\")\n",
        "\n",
        "\n"
      ],
      "metadata": {
        "colab": {
          "base_uri": "https://localhost:8080/"
        },
        "id": "tR1GjC2ZTimt",
        "outputId": "ec629b0f-ce38-44cc-9939-3b1b4da3237a"
      },
      "execution_count": 2,
      "outputs": [
        {
          "output_type": "stream",
          "name": "stdout",
          "text": [
            "{'cases': 695189446, 'deaths': 6914967, 'recovered': 667196953, 'active': 21077526, 'critical': 37925, 'tests': 7021790660, 'population': 7944935131, 'affectedCountries': 231}\n"
          ]
        }
      ]
    },
    {
      "cell_type": "code",
      "source": [
        "import pandas as pd\n",
        "\"\"\"Exportando para o formato em excel\"\"\"\n",
        "for key, value in transformed_data.items():\n",
        "    print(f\"{key}: {value}\")\n",
        "    df = pd.DataFrame([transformed_data])\n",
        "    df.to_excel('covidExtract.xlsx', index=False)"
      ],
      "metadata": {
        "id": "zdnIyxIZGnj9",
        "outputId": "c5080635-2b36-4919-bfd4-baf5c95731ff",
        "colab": {
          "base_uri": "https://localhost:8080/"
        }
      },
      "execution_count": 3,
      "outputs": [
        {
          "output_type": "stream",
          "name": "stdout",
          "text": [
            "cases: 695189446\n",
            "deaths: 6914967\n",
            "recovered: 667196953\n",
            "active: 21077526\n",
            "critical: 37925\n",
            "tests: 7021790660\n",
            "population: 7944935131\n",
            "affectedCountries: 231\n"
          ]
        }
      ]
    }
  ]
}