{
  "nbformat": 4,
  "nbformat_minor": 0,
  "metadata": {
    "colab": {
      "provenance": [],
      "authorship_tag": "ABX9TyN5uzLfVy8cCF1Mz00jHo02"
    },
    "kernelspec": {
      "name": "python3",
      "display_name": "Python 3"
    },
    "language_info": {
      "name": "python"
    }
  },
  "cells": [
    {
      "cell_type": "code",
      "execution_count": 3,
      "metadata": {
        "colab": {
          "base_uri": "https://localhost:8080/"
        },
        "id": "SjDQJiB2ccs1",
        "outputId": "2edb77c3-2ffa-4d8d-bf2f-1118b95136c4"
      },
      "outputs": [
        {
          "output_type": "stream",
          "name": "stdout",
          "text": [
            "{'updated': 1694305273474, 'cases': 695103130, 'todayCases': 4903, 'deaths': 6913935, 'todayDeaths': 5, 'recovered': 666967657, 'todayRecovered': 65807, 'active': 21221538, 'critical': 37817, 'casesPerOneMillion': 89175, 'deathsPerOneMillion': 887, 'tests': 7021679307, 'testsPerOneMillion': 883793.16, 'population': 7944935131, 'oneCasePerPeople': 0, 'oneDeathPerPeople': 0, 'oneTestPerPeople': 0, 'activePerOneMillion': 2671.08, 'recoveredPerOneMillion': 83948.79, 'criticalPerOneMillion': 4.76, 'affectedCountries': 231}\n"
          ]
        }
      ],
      "source": [
        "import requests\n",
        "import logging\n",
        "\n",
        "\"\"\"Extraindo os dados do endpoint da API disease sobre a covid\"\"\"\n",
        "\n",
        "logging.basicConfig(filename='etl_log.txt', level=logging.INFO)\n",
        "\n",
        "def extract_data_api():\n",
        "    url = \"https://disease.sh/v3/covid-19/all\"\n",
        "    response = requests.get(url)\n",
        "\n",
        "    if response.status_code == 200:\n",
        "        return response.json()\n",
        "    else:\n",
        "        logging.error(f\"Erro ao fazer a requisição à API. Status code: {response.status_code}\")\n",
        "        raise Exception(f\"Erro ao fazer a requisição à API. Status code: {response.status_code}\")\n",
        "\n",
        "try:\n",
        "  data = extract_data_api()\n",
        "  if data is not None:\n",
        "    print(data)\n",
        "  else:\n",
        "    print(\"Nenhum dado retornado pela API.\")\n",
        "except Exception as e:\n",
        "    print(e)\n",
        "    logging.error(f\"Erro inesperado: {e}\")"
      ]
    }
  ]
}