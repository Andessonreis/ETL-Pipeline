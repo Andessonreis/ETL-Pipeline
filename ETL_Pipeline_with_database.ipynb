{
  "nbformat": 4,
  "nbformat_minor": 0,
  "metadata": {
    "colab": {
      "provenance": [],
      "authorship_tag": "ABX9TyNTYHwxljwShoCRfw4WmHi0"
    },
    "kernelspec": {
      "name": "python3",
      "display_name": "Python 3"
    },
    "language_info": {
      "name": "python"
    }
  },
  "cells": [
    {
      "cell_type": "code",
      "execution_count": 18,
      "metadata": {
        "id": "SjDQJiB2ccs1"
      },
      "outputs": [],
      "source": [
        "import requests\n",
        "import logging\n",
        "\n",
        "\"\"\"Extraindo os dados do endpoint da API disease sobre a covid\"\"\"\n",
        "\n",
        "logging.basicConfig(filename='etl_log.txt', level=logging.INFO)\n",
        "\n",
        "def extract_data_api():\n",
        "    url = \"https://disease.sh/v3/covid-19/all\"\n",
        "    response = requests.get(url)\n",
        "\n",
        "    if response.status_code == 200:\n",
        "        return response.json()\n",
        "    else:\n",
        "        logging.error(f\"Erro ao fazer a requisição à API. Status code: {response.status_code}\")\n",
        "        raise Exception(f\"Erro ao fazer a requisição à API. Status code: {response.status_code}\")\n"
      ]
    },
    {
      "cell_type": "code",
      "source": [
        "\"\"\"Transforma os dados brutos da API em um formato mais legível e relevante.\"\"\"\n",
        "def transform_data_api(data):\n",
        "    \"\"\"\n",
        "    Args:\n",
        "        data (dict): Dados brutos obtidos da API.\n",
        "    Returns:\n",
        "        dict: Dados transformados contendo apenas as chaves relevantes.\n",
        "    \"\"\"\n",
        "    relevant = ['cases', 'deaths', 'recovered', 'active', 'critical', 'tests', 'population', 'affectedCountries']\n",
        "    return {key: data[key] for key in relevant}\n",
        "\n",
        "try:\n",
        "    data = extract_data_api()\n",
        "    if data is not None:\n",
        "        transformed_data = transform_data_api(data)\n",
        "        print(transformed_data)\n",
        "    else:\n",
        "        print(\"Nenhum dado retornado pela API.\")\n",
        "except Exception as e:\n",
        "    print(e)\n",
        "    logging.error(f\"Erro inesperado: {e}\")\n"
      ],
      "metadata": {
        "id": "tR1GjC2ZTimt",
        "outputId": "d200c591-e383-4b48-b813-678939dacb14",
        "colab": {
          "base_uri": "https://localhost:8080/"
        }
      },
      "execution_count": 22,
      "outputs": [
        {
          "output_type": "stream",
          "name": "stdout",
          "text": [
            "{'cases': 695108270, 'deaths': 6914377, 'recovered': 667079342, 'active': 21114551, 'critical': 37829, 'tests': 7021692499, 'population': 7944935131, 'affectedCountries': 231}\n"
          ]
        }
      ]
    }
  ]
}